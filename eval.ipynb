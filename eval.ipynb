{
 "cells": [
  {
   "cell_type": "code",
   "execution_count": 1,
   "metadata": {},
   "outputs": [
    {
     "name": "stdout",
     "output_type": "stream",
     "text": [
      "Rendering last rollout\n",
      "Avg_score:   980.12\n",
      "Avg_highest: 103.2\n",
      "Counts: (Total of 200 rollouts)\n"
     ]
    }
   ],
   "source": [
    "from eval import evaluation\n",
    "import gymnasium as gym\n",
    "from gymnasium.envs.registration import register\n",
    "from stable_baselines3 import A2C, PPO, DQN\n",
    "import matplotlib.pyplot as plt\n",
    "import numpy as np\n",
    "from collections import Counter\n",
    "\n",
    "model_path = \"models/ppo-default-env6-1.zip\"  # Change path name to load different models\n",
    "env = gym.make('2048-eval')\n",
    "model = PPO.load(model_path)\n",
    "eval_num = 200\n",
    "score, highest = evaluation(env, model, True, eval_num)\n",
    "\n",
    "print(\"Avg_score:  \", np.sum(score)/eval_num)\n",
    "print(\"Avg_highest:\", np.sum(highest)/eval_num)\n",
    "print(f\"Counts: (Total of {eval_num} rollouts)\")\n",
    "\n",
    "# c = Counter(highest)\n",
    "# for item in (sorted(c.items(),key = lambda i: i[0])):\n",
    "#     print(f\"{item[0]}: {item[1]}\")\n"
   ]
  },
  {
   "cell_type": "code",
   "execution_count": 2,
   "metadata": {},
   "outputs": [
    {
     "data": {
      "text/plain": [
       "(array([13., 78.,  0.,  0., 99.,  0.,  0.,  0.,  0., 10.]),\n",
       " array([ 32. ,  54.4,  76.8,  99.2, 121.6, 144. , 166.4, 188.8, 211.2,\n",
       "        233.6, 256. ]),\n",
       " <BarContainer object of 10 artists>)"
      ]
     },
     "execution_count": 2,
     "metadata": {},
     "output_type": "execute_result"
    },
    {
     "data": {
      "image/png": "[encoded data removed]",
      "text/plain": [
       "<Figure size 640x480 with 1 Axes>"
      ]
     },
     "metadata": {},
     "output_type": "display_data"
    }
   ],
   "source": [
    "plt.hist(highest)"
   ]
  }
 ],
 "metadata": {
  "kernelspec": {
   "display_name": "2048",
   "language": "python",
   "name": "python3"
  },
  "language_info": {
   "codemirror_mode": {
    "name": "ipython",
    "version": 3
   },
   "file_extension": ".py",
   "mimetype": "text/x-python",
   "name": "python",
   "nbconvert_exporter": "python",
   "pygments_lexer": "ipython3",
   "version": "3.10.15"
  }
 },
 "nbformat": 4,
 "nbformat_minor": 2
}
